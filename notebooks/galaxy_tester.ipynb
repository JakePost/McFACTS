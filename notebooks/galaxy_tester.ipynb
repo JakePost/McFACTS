{
 "cells": [
  {
   "metadata": {
    "collapsed": true,
    "ExecuteTime": {
     "end_time": "2025-06-12T15:54:06.272843Z",
     "start_time": "2025-06-12T15:50:46.522352Z"
    }
   },
   "cell_type": "code",
   "source": [
    "\n",
    "from tqdm.auto import tqdm\n",
    "from matplotlib import pyplot as plt\n",
    "\n",
    "from mcfacts.inputs.settings_manager import SettingsManager, AGNDisk\n",
    "from mcfacts.objects.actors import InitialObjectReclassification, InnerDiskFilter, FlipRetroProFilter\n",
    "from mcfacts.objects.agn_object_array import *\n",
    "from mcfacts.objects.galaxy import Galaxy\n",
    "from mcfacts.objects.populators import SingleBlackHolePopulator\n",
    "from mcfacts.objects.timeline import SimulationTimeline\n",
    "from mcfacts.physics.accretion import ProgradeBlackHoleAccretion, BinaryBlackHoleAccretion\n",
    "from mcfacts.physics.damping import ProgradeBlackHoleDamping, BinaryBlackHoleDamping\n",
    "from mcfacts.physics.disk_capture import CaptureRetrogradeBlackHoles, CaptureBinaryBlackHoles\n",
    "from mcfacts.physics.dynamics import SingleBlackHoleDynamics, BinaryBlackHoleDynamics\n",
    "from mcfacts.physics.evolve import BinaryBlackHoleGasHardening\n",
    "from mcfacts.physics.formation import BinaryBlackHoleFormation\n",
    "from mcfacts.physics.merge import ProcessesBinaryBlackHoleMergers\n",
    "from mcfacts.physics.migration import ProgradeBlackHoleMigration\n",
    "from mcfacts.physics.reality_check import SingleBlackHoleRealityCheck, BinaryBlackHoleRealityCheck\n",
    "\n",
    "# Seed should be 128 bits long to ensure random has enough entropy (as per NumPy documentation)\n",
    "#\n",
    "# import secrets\n",
    "# secret.randombits(128)\n",
    "\n",
    "settings = SettingsManager({\n",
    "    \"verbose\": False,\n",
    "    \"show_timeline_progress\": False,\n",
    "    \"override_files\": True\n",
    "})\n",
    "\n",
    "population_cabinet = FilingCabinet()\n",
    "\n",
    "agn_disk = AGNDisk(settings)\n",
    "\n",
    "n_galaxy = 100\n",
    "\n",
    "pbar = tqdm(total=n_galaxy, position=0, leave=True)\n",
    "\n",
    "for galaxy_id in range(n_galaxy):\n",
    "    pbar.set_description(f\"Running Galaxy {galaxy_id}\") \n",
    "    pbar.update(1)\n",
    "    \n",
    "    galaxy_seed = 223849053863469657747974663531730220530 - galaxy_id\n",
    "    \n",
    "    # Create instance of galaxy\n",
    "    galaxy = Galaxy(seed=galaxy_seed, runs_folder=\"./runs\", galaxy_id=galaxy_id, settings=settings)\n",
    "    \n",
    "    # Create instance of populators\n",
    "    single_bh_populator = SingleBlackHolePopulator()\n",
    "    #single_star_populator = SingleStarPopulator(\"single_stars\")\n",
    "    galaxy.populate([single_bh_populator], agn_disk)\n",
    "    \n",
    "    # Create timeline to classify objects created during population\n",
    "    pre_timeline = SimulationTimeline(\"Reclassification\", timesteps=1, timestep_length=0)\n",
    "    pre_timeline.add_timeline_actor(InitialObjectReclassification())\n",
    "    pre_timeline.add_timeline_actor(SingleBlackHoleRealityCheck()) \n",
    "    galaxy.run(pre_timeline, agn_disk)\n",
    "    \n",
    "    #settings=SettingsManager({**settings.settings_overrides, \"verbose\": True})\n",
    "    # Create timeline to run main simulation\n",
    "    dynamics_timeline = SimulationTimeline(\"Dynamics\", timesteps=50, timestep_length=galaxy.settings.timestep_duration_yr)\n",
    "    \n",
    "    singleton_dynamics = [\n",
    "        ProgradeBlackHoleMigration(),\n",
    "        ProgradeBlackHoleAccretion(),\n",
    "        ProgradeBlackHoleDamping(),\n",
    "        CaptureRetrogradeBlackHoles(),\n",
    "        SingleBlackHoleDynamics(),\n",
    "        SingleBlackHoleRealityCheck()\n",
    "    ]\n",
    "    \n",
    "    binary_dynamics = [\n",
    "        BinaryBlackHoleDamping(),\n",
    "        BinaryBlackHoleDynamics(reality_merge_checks = True),\n",
    "        BinaryBlackHoleAccretion(reality_merge_checks = True),\n",
    "        BinaryBlackHoleGasHardening(),\n",
    "        CaptureBinaryBlackHoles(),\n",
    "        # TODO: GW Evolution\n",
    "        ProcessesBinaryBlackHoleMergers(),\n",
    "        BinaryBlackHoleRealityCheck()\n",
    "    ]\n",
    "    \n",
    "    dynamics_timeline.add_timeline_actors(singleton_dynamics)\n",
    "    dynamics_timeline.add_timeline_actors(binary_dynamics)\n",
    "    \n",
    "    dynamics_timeline.add_timeline_actor(BinaryBlackHoleFormation())\n",
    "    \n",
    "    # Misc Disk Checks\n",
    "    dynamics_timeline.add_timeline_actor(InnerDiskFilter())\n",
    "    dynamics_timeline.add_timeline_actor(FlipRetroProFilter())\n",
    "    \n",
    "    galaxy.run(dynamics_timeline, agn_disk)\n",
    "\n",
    "    \n",
    "    # Create timeline to cleanup the final bits and bobs at the end of a\n",
    "    # cleanup_timeline = SimulationTimeline(\"Cleanup\", timesteps=1, timestep_length=0)\n",
    "    # cleanup_timeline.add_timeline_actor(BreakupBinaryBlackHoles())\n",
    "    # galaxy.run(cleanup_timeline, agn_disk)\n",
    "    \n",
    "    if \"blackholes_merged\" in galaxy.filing_cabinet:\n",
    "        population_cabinet.create_or_append_array(\"blackholes_merged\", galaxy.filing_cabinet.get_array(\"blackholes_merged\"))\n",
    "       \n",
    "pbar.close()"
   ],
   "id": "initial_id",
   "outputs": [
    {
     "name": "stdout",
     "output_type": "stream",
     "text": [
      "### Sirko & Goodman 2003 parameters ###\n",
      "Mbh = 1.000000e+08 MSun\n",
      "Mdot = 2.596689e+00 MSun/yr\n",
      "le = 1.0\n",
      "Rs = 9.570121e-06 pc\n",
      "Rmin = 2.500000e+00 Rs\n",
      "Rmax = 1.000000e+07 Rs, 9.570121e+01 pc\n",
      "alpha = 0.01\n",
      "b = 0\n",
      "eps = 0.1\n",
      "X = 0.7\n",
      "Opacity = combined\n",
      "\n",
      "debug = False\n",
      "xtol = 1e-10\n",
      "root method = lm\n",
      "Q<1 at i=3502 (R=9.06e+02 Rs)\n",
      "Beginning star formation at index 3502\n",
      "Mdisk = 422372550.2716628 Msun\n",
      "Mdisk/Mbh = 4.223725502716627\n"
     ]
    },
    {
     "data": {
      "text/plain": [
       "  0%|          | 0/100 [00:00<?, ?it/s]"
      ],
      "application/vnd.jupyter.widget-view+json": {
       "version_major": 2,
       "version_minor": 0,
       "model_id": "8b3de5b88f63461bb2ff10a0142d73b9"
      }
     },
     "metadata": {},
     "output_type": "display_data"
    }
   ],
   "execution_count": 1
  },
  {
   "metadata": {
    "ExecuteTime": {
     "end_time": "2025-06-12T10:59:22.055815Z",
     "start_time": "2025-06-12T10:59:22.051247Z"
    }
   },
   "cell_type": "code",
   "source": "galaxy.filing_cabinet.agn_objects.keys()",
   "id": "dadc3fcec1019468",
   "outputs": [
    {
     "data": {
      "text/plain": [
       "dict_keys(['blackholes_unsort', 'blackholes_prograde', 'blackholes_retrograde', 'blackholes_inner_disk', 'blackholes_binary', 'blackholes_merged'])"
      ]
     },
     "execution_count": 2,
     "metadata": {},
     "output_type": "execute_result"
    }
   ],
   "execution_count": 2
  },
  {
   "metadata": {
    "ExecuteTime": {
     "end_time": "2025-06-12T10:48:50.430036Z",
     "start_time": "2025-06-12T10:48:50.425898Z"
    }
   },
   "cell_type": "code",
   "source": "galaxy.filing_cabinet.get_array(\"blackholes_binary\", AGNBlackHoleArray).__dict__.keys()",
   "id": "a75e0c5c000af42e",
   "outputs": [
    {
     "data": {
      "text/plain": [
       "dict_keys(['unique_id_2', 'mass_2', 'orb_a_2', 'spin_2', 'spin_angle_2', 'bin_sep', 'bin_orb_a', 'time_to_merger_gw', 'flag_merging', 'time_merged', 'bin_ecc', 'gen_2', 'bin_orb_ang_mom', 'bin_orb_inc', 'bin_orb_ecc', 'gw_freq', 'gw_strain', 'unique_id', 'mass', 'spin', 'spin_angle', 'orb_a', 'orb_inc', 'orb_ecc', 'orb_ang_mom', 'orb_arg_periapse', 'gen'])"
      ]
     },
     "execution_count": 9,
     "metadata": {},
     "output_type": "execute_result"
    }
   ],
   "execution_count": 9
  },
  {
   "metadata": {
    "ExecuteTime": {
     "end_time": "2025-06-12T11:03:47.219110Z",
     "start_time": "2025-06-12T11:03:47.214098Z"
    }
   },
   "cell_type": "code",
   "source": "len(population_cabinet.get_array(\"blackholes_merged\"))",
   "id": "d26199f5a1ca6a03",
   "outputs": [
    {
     "data": {
      "text/plain": [
       "1174"
      ]
     },
     "execution_count": 7,
     "metadata": {},
     "output_type": "execute_result"
    }
   ],
   "execution_count": 7
  },
  {
   "metadata": {},
   "cell_type": "code",
   "outputs": [],
   "execution_count": null,
   "source": [
    "import secrets\n",
    "\n",
    "# from mcfacts.mcfacts_random_state import reset_random\n",
    "# \n",
    "# reset_random(223849053863469657747974663531730220530)\n",
    "\n",
    "secrets.randbits(128)\n",
    "\n",
    "# disk_bh_pro_orbs_ecc = np.asarray([0.01, 0.2, 0.01, 0.02, 2, 0.2])\n",
    "# \n",
    "# \n",
    "# indices_bh_can_form_bins = np.asarray(disk_bh_pro_orbs_ecc <= 0.01).nonzero()[0]\n",
    "# \n",
    "# print(indices_bh_can_form_bins)"
   ],
   "id": "bc2be9ffd50d2894"
  },
  {
   "metadata": {
    "ExecuteTime": {
     "end_time": "2025-05-18T19:15:46.584567Z",
     "start_time": "2025-05-18T19:15:46.581047Z"
    }
   },
   "cell_type": "code",
   "source": [
    "# settings = SettingsManager({\n",
    "#     \"verbose\": False,\n",
    "#     \"show_timeline_progress\": False,\n",
    "#     \"override_files\": True\n",
    "# })\n",
    "# \n",
    "# agn_disk = AGNDisk(settings)\n",
    "# \n",
    "# galaxy_seed = 223849053863469657747974663531730220530\n",
    "#     \n",
    "# # Create instance of galaxy\n",
    "# galaxy = Galaxy(seed=galaxy_seed, runs_folder=\"./runs\", galaxy_id=1, settings=settings)\n",
    "# \n",
    "# # Create instance of populators\n",
    "# single_bh_populator = SingleBlackHolePopulator()\n",
    "# #single_star_populator = SingleStarPopulator(\"single_stars\")\n",
    "# galaxy.populate([single_bh_populator], agn_disk)\n",
    "# \n",
    "# # Create timeline to classify objects created during population\n",
    "# pre_timeline = SimulationTimeline(\"Reclassification\", timesteps=1, timestep_length=0)\n",
    "# pre_timeline.add_simulation_actor(ReclassifyDiskObjects())\n",
    "# galaxy.run(pre_timeline, agn_disk)\n",
    "# \n",
    "# # Create timeline to run main simulation\n",
    "# dynamics_timeline = SimulationTimeline(\"Dynamics\", timesteps=1000, timestep_length=galaxy.settings.timestep_duration_yr)\n",
    "# dynamics_timeline.add_simulation_actor(ProgradeBlackHoleDynamics(settings=settings))\n",
    "# dynamics_timeline.add_simulation_actor(RetrogradeBlackholeDynamics(settings=settings))\n",
    "# dynamics_timeline.add_simulation_actor(BinaryBlackHoleDynamics(settings=settings))\n",
    "# dynamics_timeline.add_simulation_actor(BinaryBlackHoleFormation(settings=settings))\n",
    "# galaxy.run(dynamics_timeline, agn_disk)\n",
    "# \n",
    "# # Create timeline to cleanup the final bits and bobs at the end of a\n",
    "# cleanup_timeline = SimulationTimeline(\"Cleanup\", timesteps=1, timestep_length=0)\n",
    "# cleanup_timeline.add_simulation_actor(BreakupBinaryBlackHoles())\n",
    "# galaxy.run(cleanup_timeline, agn_disk)"
   ],
   "id": "6f433fe26ce9e5b5",
   "outputs": [],
   "execution_count": 6
  },
  {
   "metadata": {
    "ExecuteTime": {
     "end_time": "2025-05-18T19:15:46.623334Z",
     "start_time": "2025-05-18T19:15:46.617717Z"
    }
   },
   "cell_type": "code",
   "source": "galaxy.filing_cabinet.get_array(\"blackholes_retrograde\", AGNBlackHoleArray).mass",
   "id": "89ae687fccf8c1df",
   "outputs": [
    {
     "data": {
      "text/plain": [
       "array([10.14555743, 12.56024005, 11.46509243, 11.55377003, 16.80598786,\n",
       "       10.01884261, 26.09994274, 12.4590904 , 10.88898431, 11.72732898,\n",
       "       21.55327999, 10.37018618, 25.5863238 , 11.78699991, 12.88365206,\n",
       "       15.45785657, 11.8650965 , 13.0457803 , 10.67439401, 29.26709492,\n",
       "       17.42761892, 36.96050601, 14.10803934, 19.32962775, 23.83456324,\n",
       "       10.03044179, 29.58379621, 12.75069278, 20.9546029 , 30.59444687,\n",
       "       36.37647219, 10.36433736, 18.78908555, 11.94425991, 26.18596926,\n",
       "       12.15751128, 37.39858335, 11.69148366, 12.51090175, 25.81316658,\n",
       "       10.91776462, 39.59724668, 10.28017889, 10.2145691 , 10.92880971,\n",
       "       16.29501017])"
      ]
     },
     "execution_count": 7,
     "metadata": {},
     "output_type": "execute_result"
    }
   ],
   "execution_count": 7
  },
  {
   "metadata": {
    "ExecuteTime": {
     "end_time": "2025-06-12T15:54:19.200559Z",
     "start_time": "2025-06-12T15:54:17.681851Z"
    }
   },
   "cell_type": "code",
   "source": [
    "from mcfacts.vis import styles\n",
    "import matplotlib.ticker as mticker\n",
    "import numpy as np\n",
    "figsize = \"apj_col\"\n",
    "\n",
    "def make_gen_masks(gen_obj1, gen_obj2):\n",
    "    \"\"\"Create masks for retrieving different sets of a merged or binary population based on generation.\n",
    "    \"\"\"\n",
    "    # Column of generation data\n",
    "\n",
    "    # Masks for hierarchical generations\n",
    "    # g1 : all 1g-1g objects\n",
    "    # g2 : 2g-1g and 2g-2g objects\n",
    "    # g3 : >=3g-Ng (first object at least 3rd gen; second object any gen)\n",
    "    # Pipe operator (|) = logical OR. (&)= logical AND.\n",
    "    g1_mask = (gen_obj1 == 1) & (gen_obj2 == 1)\n",
    "    g2_mask = ((gen_obj1 == 2) | (gen_obj2 == 2)) & ((gen_obj1 <= 2) & (gen_obj2 <= 2))\n",
    "    gX_mask = (gen_obj1 >= 3) | (gen_obj2 >= 3)\n",
    "\n",
    "    return g1_mask, g2_mask, gX_mask\n",
    "\n",
    "mergers = population_cabinet.get_array(\"blackholes_merged\")\n",
    "mass_final = mergers.mass_final\n",
    "\n",
    "merger_g1_mask, merger_g2_mask, merger_gX_mask = make_gen_masks(mergers.gen_1, mergers.gen_2)\n",
    "\n",
    "# Plot intial and final mass distributions\n",
    "fig = plt.figure(figsize=(8, 5))\n",
    "counts, bins = np.histogram(mass_final)\n",
    "# plt.hist(bins[:-1], bins, weights=counts)\n",
    "bins = np.arange(int(mass_final.min()), int(mass_final.max()) + 2, 1)\n",
    "\n",
    "hist_data = [mass_final[merger_g1_mask], mass_final[merger_g2_mask], mass_final[merger_gX_mask]]\n",
    "hist_label = ['1g-1g', '2g-1g or 2g-2g', r'$\\geq$3g-Ng']\n",
    "hist_color = [styles.color_gen1, styles.color_gen2, styles.color_genX]\n",
    "\n",
    "plt.hist(hist_data, bins=bins, align='left', color=hist_color, alpha=0.9, rwidth=0.8, label=hist_label, stacked=True)\n",
    "\n",
    "plt.ylabel('Number of Mergers')\n",
    "plt.xlabel(r'Remnant Mass [$M_\\odot$]')\n",
    "plt.xscale('log')\n",
    "# plt.ylim(-5,max(counts))\n",
    "svf_ax = plt.gca()\n",
    "svf_ax.set_axisbelow(True)\n",
    "svf_ax.tick_params(axis='x', direction='out', which='both')\n",
    "#plt.grid(True, color='gray', ls='dashed')\n",
    "svf_ax.yaxis.grid(True, color='gray', ls='dashed')\n",
    "\n",
    "plt.xticks(np.geomspace(int(mass_final.min()), int(mass_final.max()), 5).astype(int))\n",
    "#plt.xticks(np.geomspace(20, 200, 5).astype(int))\n",
    "\n",
    "svf_ax.xaxis.set_major_formatter(mticker.StrMethodFormatter('{x:.0f}'))\n",
    "svf_ax.xaxis.set_minor_formatter(mticker.NullFormatter())\n",
    "\n",
    "if figsize == 'apj_col':\n",
    "    plt.legend(fontsize=6)\n",
    "elif figsize == 'apj_page':\n",
    "    plt.legend()\n",
    "\n",
    "#plt.savefig(opts.plots_directory + r\"/merger_remnant_mass.png\", format='png')\n"
   ],
   "id": "962c8deecc08a17d",
   "outputs": [
    {
     "data": {
      "text/plain": [
       "<Figure size 800x500 with 1 Axes>"
      ],
      "image/png": "[encoded data removed]"
     },
     "metadata": {},
     "output_type": "display_data"
    }
   ],
   "execution_count": 2
  },
  {
   "metadata": {
    "ExecuteTime": {
     "end_time": "2025-05-18T19:15:47.237294Z",
     "start_time": "2025-05-18T19:15:47.232844Z"
    }
   },
   "cell_type": "code",
   "source": "print(galaxy.timeline_history[0].get_timeline_actor(0).settings.settings_finals)",
   "id": "6cbebcd7a5e08514",
   "outputs": [
    {
     "name": "stdout",
     "output_type": "stream",
     "text": [
      "{'verbose': False, 'show_timeline_progress': False, 'override_files': False, 'pickle_state': False, 'pickle_each_timestep': False, 'smbh_mass': 100000000.0, 'flag_use_pagn': True, 'disk_model_name': 'sirko_goodman', 'disk_radius_trap': 700.0, 'disk_radius_outer': 50000.0, 'disk_alpha_viscosity': 0.01, 'disk_aspect_ratio_avg': 0.03, 'disk_bh_torque_condition': 0.1, 'disk_bh_eddington_ratio': 1.0, 'disk_bh_orb_ecc_max_init': 0.3, 'disk_radius_capture_outer': 2000.0, 'disk_bh_pro_orb_ecc_crit': 0.01, 'inner_disk_outer_radius': 50.0, 'disk_radius_max_pc': 0.0, 'disk_inner_stable_circ_orb': 6.0, 'initial_binary_orbital_ecc': 0.01, 'fraction_bin_retro': 0, 'flag_add_stars': True, 'disk_star_mass_min_init': 5.0, 'disk_star_mass_max_init': 40, 'nsc_radius_outer': 5.0, 'nsc_mass': 30000000.0, 'nsc_radius_crit': 0.25, 'nsc_ratio_bh_num_star_num': 0.001, 'nsc_ratio_bh_mass_star_mass': 10.0, 'nsc_density_index_inner': 1.75, 'nsc_density_index_outer': 2.5, 'nsc_imf_star_powerlaw_index': 2.35, 'nsc_imf_bh_mode': 10.0, 'nsc_imf_bh_powerlaw_index': 2.0, 'nsc_imf_bh_mass_max': 40.0, 'nsc_bh_spin_dist_mu': 0.0, 'nsc_bh_spin_dist_sigma': 0.1, 'nsc_spheroid_normalization': 1.0, 'nsc_star_spin_dist_mu': 100, 'nsc_star_spin_dist_sigma': 20, 'nsc_star_metallicity_x_init': 0.7274, 'nsc_star_metallicity_y_init': 0.2638, 'nsc_star_metallicity_z_init': 0.0088, 'timestep_duration_yr': 10000.0, 'timestep_num': 100, 'capture_time_yr': 100000.0, 'galaxy_num': 1, 'save_snapshots': 0, 'flag_thermal_feedback': 1, 'flag_orb_ecc_damping': 1, 'flag_dynamic_enc': 1, 'delta_energy_strong': 0.1, 'mass_pile_up': 35.0, 'disk_bh_eddington_mass_growth_rate': 2.3e-08, 'disk_bh_spin_resolution_min': 0.02, 'min_bbh_gw_separation': 2.0, 'agn_redshift': 0.1, 'bh_array_name': 'blackholes_unsort', 'bh_inner_disk_array_name': 'blackholes_inner_disk', 'bh_prograde_array_name': 'blackholes_prograde', 'bh_retrograde_array_name': 'blackholes_retrograde', 'bbh_array_name': 'blackholes_binary', 'bbh_gw_array_name': 'blackholes_binary_gw', 'bbh_merged_array_name': 'blackholes_merged'}\n"
     ]
    }
   ],
   "execution_count": 9
  },
  {
   "metadata": {
    "ExecuteTime": {
     "end_time": "2025-05-18T19:15:47.279600Z",
     "start_time": "2025-05-18T19:15:47.275990Z"
    }
   },
   "cell_type": "code",
   "source": [
    "for x, y in galaxy.filing_cabinet.agn_objects.items():\n",
    "    print (f\"{x}, {len(y.unique_id)}\")"
   ],
   "id": "eca678effa49b95a",
   "outputs": [
    {
     "name": "stdout",
     "output_type": "stream",
     "text": [
      "blackholes_unsort, 0\n",
      "blackholes_prograde, 125\n",
      "blackholes_retrograde, 46\n",
      "blackholes_inner_disk, 20\n",
      "blackholes_binary, 0\n",
      "blackholes_binary_gw, 9\n",
      "blackholes_merged, 2\n"
     ]
    }
   ],
   "execution_count": 10
  },
  {
   "metadata": {
    "ExecuteTime": {
     "end_time": "2025-05-18T19:15:47.323778Z",
     "start_time": "2025-05-18T19:15:47.319266Z"
    }
   },
   "cell_type": "code",
   "source": "galaxy.filing_cabinet.get_array(galaxy.settings.bh_array_name).get_super_list()",
   "id": "bbee58d379c64ad4",
   "outputs": [
    {
     "data": {
      "text/plain": [
       "{'unique_id': array([], dtype=object),\n",
       " 'mass': array([], dtype=float64),\n",
       " 'spin': array([], dtype=float64),\n",
       " 'spin_angle': array([], dtype=float64),\n",
       " 'orb_a': array([], dtype=float64),\n",
       " 'orb_inc': array([], dtype=float64),\n",
       " 'orb_ecc': array([], dtype=float64),\n",
       " 'orb_ang_mom': array([], dtype=float64),\n",
       " 'orb_arg_periapse': array([], dtype=float64),\n",
       " 'gen': array([], dtype=int32),\n",
       " 'gw_freq': array([], dtype=int32),\n",
       " 'gw_strain': array([], dtype=int32)}"
      ]
     },
     "execution_count": 11,
     "metadata": {},
     "output_type": "execute_result"
    }
   ],
   "execution_count": 11
  },
  {
   "metadata": {
    "ExecuteTime": {
     "end_time": "2025-05-18T19:15:47.352624Z",
     "start_time": "2025-05-18T19:15:47.347604Z"
    }
   },
   "cell_type": "code",
   "source": "len(galaxy.filing_cabinet.get_array(galaxy.settings.bh_inner_disk_array_name))",
   "id": "38e121ad1d2ccbdd",
   "outputs": [
    {
     "data": {
      "text/plain": [
       "20"
      ]
     },
     "execution_count": 12,
     "metadata": {},
     "output_type": "execute_result"
    }
   ],
   "execution_count": 12
  },
  {
   "metadata": {
    "ExecuteTime": {
     "end_time": "2025-05-18T19:15:47.380561Z",
     "start_time": "2025-05-18T19:15:47.375211Z"
    }
   },
   "cell_type": "code",
   "source": [
    "super_list = galaxy.filing_cabinet.get_array(galaxy.settings.bh_inner_disk_array_name).get_super_list()\n",
    "\n",
    "for key, value in super_list.items():\n",
    "    print(f\"{key}: {value}\")"
   ],
   "id": "9c1c4bd6cf8df39e",
   "outputs": [
    {
     "name": "stdout",
     "output_type": "stream",
     "text": [
      "unique_id: [UUID('351b02b3-bf34-4059-8a22-5be1515c1762')\n",
      " UUID('28bccb2b-ccca-4e78-b0dc-7ec5fe4be8cf')\n",
      " UUID('044daad9-0ae6-40cd-bff3-9a16aa9b5614')\n",
      " UUID('f2a18e6f-9dc9-4d52-a6f1-a85373fcb9c2')\n",
      " UUID('972eb256-eda7-4fc8-b605-2f824b3a2cb9')\n",
      " UUID('0b8e6700-3a99-4af3-8473-f1f4b6c3bdb5')\n",
      " UUID('03df8c3a-c603-4470-bb1e-3a2eab7c396d')\n",
      " UUID('5152854d-c451-4080-be85-421d897814db')\n",
      " UUID('0b90bdf9-45e9-460a-8dad-79d2b51e43b5')\n",
      " UUID('149f0d4d-ac28-46ce-9ae6-987fc4878c4f')\n",
      " UUID('14901dce-6b75-4ab5-ae30-388bf0613459')\n",
      " UUID('63a5810a-c69c-4d36-ae31-b0a75ab5918c')\n",
      " UUID('b1856eb4-fee3-4142-9421-37b65c662b2f')\n",
      " UUID('36848429-cd66-4e9b-b014-61ddef8a19d2')\n",
      " UUID('8c2a9467-56d3-420c-a016-bb9c0d3ca82b')\n",
      " UUID('9faf59f8-51c1-4252-8010-450a5ea0cc90')\n",
      " UUID('dfc98408-d762-4e0e-826f-7e9ad0f67bdd')\n",
      " UUID('78f875ca-7d07-4af5-af49-e0495520c49b')\n",
      " UUID('896c6c3a-b155-408b-a326-752a7b0c9c5b')\n",
      " UUID('98521314-5b43-448e-ba19-b58ece5666d5')]\n",
      "mass: [11.3443909  14.24557327 10.40624867 12.6739569  11.42285768 12.61534758\n",
      " 18.2281169  21.20321615 11.71780332 21.10122901 14.46170293 12.3316856\n",
      " 16.72715761 10.3398693  10.12749985 13.76411472 28.47748294 10.53129766\n",
      " 22.88344127 16.54334561]\n",
      "spin: [-0.09012414 -0.03301182  0.26611268  0.15634218 -0.05126765 -0.08516701\n",
      "  0.04082179 -0.0016833   0.10925318  0.10049612  0.0481763   0.19840711\n",
      " -0.00919635  0.07230644 -0.18474686 -0.14232215  0.13455973 -0.03178021\n",
      " -0.09486055 -0.01267843]\n",
      "spin_angle: [1.67968018 1.70374798 0.27380511 0.98891705 2.65145901 2.87694349\n",
      " 0.53442559 2.13628081 1.28364043 1.4148723  1.18164277 1.24566525\n",
      " 2.65777489 1.38226346 1.64268806 1.58843692 0.90873576 2.81270843\n",
      " 1.83517115 2.30063709]\n",
      "orb_a: [6. 6. 6. 6. 6. 6. 6. 6. 6. 6. 6. 6. 6. 6. 6. 6. 6. 6. 6. 6.]\n",
      "orb_inc: [3.1131731  3.15555228 3.14062753 3.10936661 3.14608484 3.14343929\n",
      " 3.11820636 3.11613673 3.1293533  3.1356434  3.14067909 3.13301373\n",
      " 3.11408817 3.10477374 3.11918185 3.14042251 3.15163257 3.16158998\n",
      " 3.09623291 3.12148947]\n",
      "orb_ecc: [0.99999999 0.99999999 0.99999999 0.99999999 0.99999999 0.99999999\n",
      " 0.99999999 0.99999999 0.99999999 0.99999999 0.99999999 0.99999999\n",
      " 0.99999999 0.99999999 0.99999999 0.99999999 0.99999999 0.99999999\n",
      " 0.99999999 0.99999999]\n",
      "orb_ang_mom: [-1. -1. -1. -1. -1. -1. -1. -1. -1. -1. -1. -1. -1. -1. -1. -1. -1. -1.\n",
      " -1. -1.]\n",
      "orb_arg_periapse: [0. 0. 0. 0. 0. 0. 0. 0. 0. 0. 0. 0. 0. 0. 0. 0. 0. 0. 0. 0.]\n",
      "gen: [1 1 1 1 1 1 1 1 1 1 1 1 1 1 1 1 1 1 1 1]\n",
      "gw_freq: [-1 -1 -1 -1 -1 -1 -1 -1 -1 -1 -1 -1 -1 -1 -1 -1 -1 -1 -1 -1]\n",
      "gw_strain: [-1 -1 -1 -1 -1 -1 -1 -1 -1 -1 -1 -1 -1 -1 -1 -1 -1 -1 -1 -1]\n"
     ]
    }
   ],
   "execution_count": 13
  },
  {
   "metadata": {
    "ExecuteTime": {
     "end_time": "2025-05-18T19:15:47.415636Z",
     "start_time": "2025-05-18T19:15:47.411575Z"
    }
   },
   "cell_type": "code",
   "source": [
    "# # Create the simulation timeline instance\n",
    "# active_timeline = SimulationTimeline(\"Active AGN Phase\", timesteps=100, timestep_length=1.e4)\n",
    "# \n",
    "# # Create timeline, letting python order them by list ordering\n",
    "# active_actors = [\n",
    "#     TestSimulationActor(\"Prograde BH Dynamics\"),\n",
    "#     TestSimulationActor(\"Retrograde BH Dynamics\"),\n",
    "#     TestSimulationActor(\"Merger Dynamics\"),\n",
    "#     TestSimulationActor(\"Binary BH Dynamics\")\n",
    "# ]\n",
    "# \n",
    "# active_timeline.addSimulationActors(active_actors)\n",
    "# \n",
    "# # Create a timeline through a different method\n",
    "# # Create dictionary of actors explicitly ordered by using an integer key\n",
    "# quiescent_actors = dict()\n",
    "# quiescent_actors[0] = TestSimulationActor(\"Prograde BH Dynamics\")\n",
    "# quiescent_actors[1] = TestSimulationActor(\"Retrograde BH Dynamics\")\n",
    "# \n",
    "# quiescent_timeline = SimulationTimeline(\"Quiescent AGN Phase\", timesteps=20, timestep_length=50, ordered_actors=quiescent_actors)\n",
    "# \n",
    "# print(active_timeline)\n",
    "# print(quiescent_timeline)\n",
    "# \n",
    "# # Simulate both timelines\n",
    "# galaxy.simulate(active_timeline)\n",
    "# galaxy.simulate(quiescent_timeline)"
   ],
   "id": "1ec2faed710e7d7a",
   "outputs": [],
   "execution_count": 14
  },
  {
   "metadata": {
    "ExecuteTime": {
     "end_time": "2025-05-18T19:15:47.429258Z",
     "start_time": "2025-05-18T19:15:47.426682Z"
    }
   },
   "cell_type": "code",
   "source": "",
   "id": "7f430ba9fcac8bfe",
   "outputs": [],
   "execution_count": null
  },
  {
   "metadata": {
    "ExecuteTime": {
     "end_time": "2025-05-18T19:15:47.442521Z",
     "start_time": "2025-05-18T19:15:47.439289Z"
    }
   },
   "cell_type": "code",
   "source": "",
   "id": "f79dbb6dde6b23b6",
   "outputs": [],
   "execution_count": null
  },
  {
   "metadata": {
    "ExecuteTime": {
     "end_time": "2025-05-18T19:15:47.459095Z",
     "start_time": "2025-05-18T19:15:47.456584Z"
    }
   },
   "cell_type": "code",
   "source": "",
   "id": "8515998ba435b03a",
   "outputs": [],
   "execution_count": null
  },
  {
   "metadata": {
    "ExecuteTime": {
     "end_time": "2025-05-18T19:15:47.492232Z",
     "start_time": "2025-05-18T19:15:47.489728Z"
    }
   },
   "cell_type": "code",
   "source": "",
   "id": "88e2c81b016efcab",
   "outputs": [],
   "execution_count": null
  }
 ],
 "metadata": {
  "kernelspec": {
   "display_name": "Python 3",
   "language": "python",
   "name": "python3"
  },
  "language_info": {
   "codemirror_mode": {
    "name": "ipython",
    "version": 2
   },
   "file_extension": ".py",
   "mimetype": "text/x-python",
   "name": "python",
   "nbconvert_exporter": "python",
   "pygments_lexer": "ipython2",
   "version": "2.7.6"
  }
 },
 "nbformat": 4,
 "nbformat_minor": 5
}
