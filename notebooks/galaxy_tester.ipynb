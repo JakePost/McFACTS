{
 "cells": [
  {
   "metadata": {
    "ExecuteTime": {
     "end_time": "2024-12-02T11:32:15.108397Z",
     "start_time": "2024-12-02T11:32:15.098073Z"
    }
   },
   "cell_type": "code",
   "source": [
    "import secrets\n",
    "\n",
    "# from mcfacts.mcfacts_random_state import reset_random\n",
    "# \n",
    "# reset_random(223849053863469657747974663531730220530)\n",
    "\n",
    "secrets.randbits(128)"
   ],
   "id": "447818725b4b80b3",
   "outputs": [
    {
     "data": {
      "text/plain": [
       "255167430971232103865932043846209015976"
      ]
     },
     "execution_count": 1,
     "metadata": {},
     "output_type": "execute_result"
    }
   ],
   "execution_count": 1
  },
  {
   "metadata": {
    "ExecuteTime": {
     "end_time": "2024-12-02T11:32:17.085471Z",
     "start_time": "2024-12-02T11:32:15.143984Z"
    }
   },
   "cell_type": "code",
   "source": [
    "from tqdm.auto import tqdm\n",
    "\n",
    "from mcfacts.objects.agn_disk import AGNDisk\n",
    "from mcfacts.objects.agn_object_array import AGNBinaryBlackHoleArray\n",
    "from mcfacts.objects.filing_cabinet import FilingCabinet\n",
    "from mcfacts.objects.galaxy import Galaxy\n",
    "from mcfacts.inputs.settings_manager import SettingsManager\n",
    "from mcfacts.objects.galaxy_populator import SingleBlackHolePopulator, SingleStarPopulator\n",
    "from mcfacts.objects.simulation_actor import ReclassifyDiskObjects, ProgradeBlackHoleDynamics, \\\n",
    "    RetrogradeBlackholeDynamics, BinaryBlackHoleDynamics, BinaryBlackHoleFormation, BreakupBinaryBlackHoles\n",
    "from mcfacts.objects.simulation_timeline import SimulationTimeline\n",
    "\n",
    "from matplotlib import pyplot as plt"
   ],
   "id": "ac3f3a77cdf7e3f7",
   "outputs": [],
   "execution_count": 2
  },
  {
   "metadata": {
    "collapsed": true,
    "ExecuteTime": {
     "end_time": "2024-12-02T11:32:47.651543Z",
     "start_time": "2024-12-02T11:32:17.558145Z"
    }
   },
   "cell_type": "code",
   "source": [
    "# Seed should be 128 bits long to ensure random has enough entropy (as per NumPy documentation)\n",
    "#\n",
    "# import secrets\n",
    "# secret.randombits(128)\n",
    "\n",
    "settings = SettingsManager({\n",
    "    \"verbose\": False,\n",
    "    \"show_timeline_progress\": False,\n",
    "    \"override_files\": True\n",
    "})\n",
    "\n",
    "population_cabinet = FilingCabinet()\n",
    "\n",
    "agn_disk = AGNDisk(settings)\n",
    "\n",
    "n_galaxy = 10\n",
    "\n",
    "pbar = tqdm(total=n_galaxy, position=0, leave=True)\n",
    "\n",
    "for galaxy_id in range(n_galaxy):\n",
    "    pbar.set_description(f\"Running Galaxy {galaxy_id}\") \n",
    "    pbar.update(1)\n",
    "    \n",
    "    galaxy_seed = 223849053863469657747974663531730220530 - galaxy_id\n",
    "    \n",
    "    # Create instance of galaxy\n",
    "    galaxy = Galaxy(seed=galaxy_seed, runs_folder=\"./runs\", galaxy_id=galaxy_id, settings=settings)\n",
    "    \n",
    "    # Create instance of populators\n",
    "    single_bh_populator = SingleBlackHolePopulator()\n",
    "    #single_star_populator = SingleStarPopulator(\"single_stars\")\n",
    "    galaxy.populate([single_bh_populator], agn_disk)\n",
    "    \n",
    "    # Create timeline to classify objects created during population\n",
    "    pre_timeline = SimulationTimeline(\"Reclassification\", timesteps=1, timestep_length=0)\n",
    "    pre_timeline.add_simulation_actor(ReclassifyDiskObjects())\n",
    "    galaxy.run(pre_timeline, agn_disk)\n",
    "    \n",
    "    # Create timeline to run main simulation\n",
    "    dynamics_timeline = SimulationTimeline(\"Dynamics\", timesteps=1000, timestep_length=galaxy.settings.timestep_duration_yr)\n",
    "    dynamics_timeline.add_simulation_actor(ProgradeBlackHoleDynamics(settings=settings))\n",
    "    #dynamics_timeline.add_simulation_actor(RetrogradeBlackholeDynamics(settings=settings))\n",
    "    dynamics_timeline.add_simulation_actor(BinaryBlackHoleDynamics(settings=settings))\n",
    "    dynamics_timeline.add_simulation_actor(BinaryBlackHoleFormation(settings=settings))\n",
    "    galaxy.run(dynamics_timeline, agn_disk)\n",
    "    \n",
    "    # Create timeline to cleanup the final bits and bobs at the end of a\n",
    "    cleanup_timeline = SimulationTimeline(\"Cleanup\", timesteps=1, timestep_length=0)\n",
    "    cleanup_timeline.add_simulation_actor(BreakupBinaryBlackHoles())\n",
    "    galaxy.run(cleanup_timeline, agn_disk)\n",
    "    \n",
    "    if \"blackholes_merged\" in galaxy.filing_cabinet:\n",
    "        population_cabinet.create_or_append_array(\"blackholes_merged\", galaxy.filing_cabinet.get_array(\"blackholes_merged\"))\n",
    "       \n",
    "pbar.close()"
   ],
   "id": "initial_id",
   "outputs": [
    {
     "name": "stdout",
     "output_type": "stream",
     "text": [
      "### Sirko & Goodman 2003 parameters ###\n",
      "Mbh = 1.000000e+08 MSun\n",
      "Mdot = 2.596689e+00 MSun/yr\n",
      "le = 1.0\n",
      "Rs = 9.570121e-06 pc\n",
      "Rmin = 2.500000e+00 Rs\n",
      "Rmax = 1.000000e+07 Rs, 9.570121e+01 pc\n",
      "alpha = 0.01\n",
      "b = 0\n",
      "eps = 0.1\n",
      "X = 0.7\n",
      "Opacity = combined\n",
      "\n",
      "debug = False\n",
      "xtol = 1e-10\n",
      "root method = lm\n",
      "Q<1 at i=3502 (R=9.06e+02 Rs)\n",
      "Beginning star formation at index 3502\n",
      "Mdisk = 422372550.27166283 Msun\n",
      "Mdisk/Mbh = 4.223725502716628\n"
     ]
    },
    {
     "data": {
      "text/plain": [
       "  0%|          | 0/10 [00:00<?, ?it/s]"
      ],
      "application/vnd.jupyter.widget-view+json": {
       "version_major": 2,
       "version_minor": 0,
       "model_id": "8b0ee395a3904f1c99734b7da283a258"
      }
     },
     "metadata": {},
     "output_type": "display_data"
    }
   ],
   "execution_count": 3
  },
  {
   "metadata": {
    "ExecuteTime": {
     "end_time": "2024-11-30T15:07:47.310863800Z",
     "start_time": "2024-11-27T04:53:00.560796Z"
    }
   },
   "cell_type": "code",
   "outputs": [
    {
     "name": "stdout",
     "output_type": "stream",
     "text": [
      "{'verbose': False, 'smbh_mass': 100000000.0, 'flag_use_pagn': True, 'disk_model_name': 'sirko_goodman', 'disk_radius_trap': 700.0, 'disk_radius_outer': 50000.0, 'disk_alpha_viscosity': 0.01, 'disk_aspect_ratio_avg': 0.03, 'disk_bh_torque_condition': 0.1, 'disk_bh_eddington_ratio': 1.0, 'disk_bh_orb_ecc_max_init': 0.3, 'disk_radius_capture_outer': 2000.0, 'disk_bh_pro_orb_ecc_crit': 0.01, 'inner_disk_outer_radius': 50.0, 'disk_radius_max_pc': -0.25, 'disk_inner_stable_circ_orb': 6.0, 'flag_add_stars': True, 'disk_star_mass_min_init': 5.0, 'disk_star_mass_max_init': 40, 'nsc_radius_outer': 5.0, 'nsc_mass': 30000000.0, 'nsc_radius_crit': 0.25, 'nsc_ratio_bh_num_star_num': 0.001, 'nsc_ratio_bh_mass_star_mass': 10.0, 'nsc_density_index_inner': 1.75, 'nsc_density_index_outer': 2.5, 'nsc_imf_star_powerlaw_index': 2.35, 'nsc_imf_bh_mode': 10.0, 'nsc_imf_bh_powerlaw_index': 2.0, 'nsc_imf_bh_mass_max': 40.0, 'nsc_bh_spin_dist_mu': 0.0, 'nsc_bh_spin_dist_sigma': 0.1, 'nsc_spheroid_normalization': 1.0, 'nsc_star_spin_dist_mu': 100, 'nsc_star_spin_dist_sigma': 20, 'nsc_star_metallicity_x_init': 0.7274, 'nsc_star_metallicity_y_init': 0.2638, 'nsc_star_metallicity_z_init': 0.0088, 'timestep_duration_yr': 10000.0, 'timestep_num': 100, 'capture_time_yr': 100000.0, 'galaxy_num': 1, 'save_snapshots': 0, 'flag_thermal_feedback': 1, 'flag_orb_ecc_damping': 1, 'flag_dynamic_enc': 0, 'delta_energy_strong': 0.1, 'mass_pile_up': 35.0, 'bh_array_name': 'blackholes', 'bh_inner_disk_array_name': 'blackholes_inner_disk'}\n"
     ]
    }
   ],
   "execution_count": 8,
   "source": "print(galaxy.timeline_history[0].get_simulation_actor(0).settings.settings_finals)",
   "id": "6cbebcd7a5e08514"
  },
  {
   "metadata": {
    "ExecuteTime": {
     "end_time": "2024-11-28T05:12:14.212041Z",
     "start_time": "2024-11-28T05:12:14.208298Z"
    }
   },
   "cell_type": "code",
   "source": [
    "for x, y in galaxy.filing_cabinet.agn_objects.items():\n",
    "    print (f\"{x}, {len(y.unique_id)}\")"
   ],
   "id": "eca678effa49b95a",
   "outputs": [
    {
     "name": "stdout",
     "output_type": "stream",
     "text": [
      "blackholes_unsort, 0\n",
      "blackholes_inner_disk, 2\n",
      "blackholes_prograde, 48\n",
      "blackholes_retrograde, 100\n",
      "blackholes_binary, 1\n",
      "blackholes_binary_gw, 24\n",
      "blackholes_merged, 3\n"
     ]
    }
   ],
   "execution_count": 5
  },
  {
   "metadata": {
    "ExecuteTime": {
     "end_time": "2024-11-28T01:36:37.325635Z",
     "start_time": "2024-11-28T01:36:37.320819Z"
    }
   },
   "cell_type": "code",
   "source": "galaxy.filing_cabinet.get_array(galaxy.settings.bh_array_name).get_super_list()",
   "id": "bbee58d379c64ad4",
   "outputs": [
    {
     "data": {
      "text/plain": [
       "{'unique_id': array([], dtype=object),\n",
       " 'mass': array([], dtype=float64),\n",
       " 'spin': array([], dtype=float64),\n",
       " 'spin_angle': array([], dtype=float64),\n",
       " 'orb_a': array([], dtype=float64),\n",
       " 'orb_inc': array([], dtype=float64),\n",
       " 'orb_ecc': array([], dtype=float64),\n",
       " 'orb_ang_mom': array([], dtype=float64),\n",
       " 'orb_arg_periapse': array([], dtype=float64),\n",
       " 'gen': array([], dtype=int32),\n",
       " 'gw_freq': array([], dtype=int32),\n",
       " 'gw_strain': array([], dtype=int32)}"
      ]
     },
     "execution_count": 9,
     "metadata": {},
     "output_type": "execute_result"
    }
   ],
   "execution_count": 9
  },
  {
   "metadata": {
    "ExecuteTime": {
     "end_time": "2024-11-27T07:31:05.069012800Z",
     "start_time": "2024-11-27T04:53:01.903358Z"
    }
   },
   "cell_type": "code",
   "source": "len(galaxy.filing_cabinet.get_array(galaxy.settings.bh_inner_disk_array_name))",
   "id": "38e121ad1d2ccbdd",
   "outputs": [
    {
     "data": {
      "text/plain": [
       "2"
      ]
     },
     "execution_count": 10,
     "metadata": {},
     "output_type": "execute_result"
    }
   ],
   "execution_count": 10
  },
  {
   "metadata": {
    "ExecuteTime": {
     "end_time": "2024-11-27T07:31:05.069012800Z",
     "start_time": "2024-11-27T05:30:38.020901Z"
    }
   },
   "cell_type": "code",
   "source": [
    "super_list = galaxy.filing_cabinet.get_array(galaxy.settings.bh_inner_disk_array_name).get_super_list()\n",
    "\n",
    "for key, value in super_list.items():\n",
    "    print(f\"{key}: {value}\")"
   ],
   "id": "9c1c4bd6cf8df39e",
   "outputs": [
    {
     "name": "stdout",
     "output_type": "stream",
     "text": [
      "unique_id: [UUID('43c73e8a-797e-47d1-9252-76eebb9f1c97')\n",
      " UUID('97be0020-3a66-4539-aed1-9642070ab314')]\n",
      "mass: [34.03820445 14.96805486]\n",
      "spin: [0.00856194 0.17968018]\n",
      "spin_angle: [0.58540465 0.46268972]\n",
      "orb_a: [40.23507509 17.33250362]\n",
      "orb_inc: [3.07265887 2.95587407]\n",
      "orb_ecc: [0.09117954 0.09131472]\n",
      "orb_ang_mom: [-1. -1.]\n",
      "orb_arg_periapse: [1.57079633 0.        ]\n",
      "gw_freq: [-1 -1]\n",
      "gw_strain: [-1 -1]\n"
     ]
    }
   ],
   "execution_count": 16
  },
  {
   "metadata": {},
   "cell_type": "code",
   "outputs": [],
   "execution_count": null,
   "source": [
    "# # Create the simulation timeline instance\n",
    "# active_timeline = SimulationTimeline(\"Active AGN Phase\", timesteps=100, timestep_length=1.e4)\n",
    "# \n",
    "# # Create timeline, letting python order them by list ordering\n",
    "# active_actors = [\n",
    "#     TestSimulationActor(\"Prograde BH Dynamics\"),\n",
    "#     TestSimulationActor(\"Retrograde BH Dynamics\"),\n",
    "#     TestSimulationActor(\"Merger Dynamics\"),\n",
    "#     TestSimulationActor(\"Binary BH Dynamics\")\n",
    "# ]\n",
    "# \n",
    "# active_timeline.addSimulationActors(active_actors)\n",
    "# \n",
    "# # Create a timeline through a different method\n",
    "# # Create dictionary of actors explicitly ordered by using an integer key\n",
    "# quiescent_actors = dict()\n",
    "# quiescent_actors[0] = TestSimulationActor(\"Prograde BH Dynamics\")\n",
    "# quiescent_actors[1] = TestSimulationActor(\"Retrograde BH Dynamics\")\n",
    "# \n",
    "# quiescent_timeline = SimulationTimeline(\"Quiescent AGN Phase\", timesteps=20, timestep_length=50, ordered_actors=quiescent_actors)\n",
    "# \n",
    "# print(active_timeline)\n",
    "# print(quiescent_timeline)\n",
    "# \n",
    "# # Simulate both timelines\n",
    "# galaxy.simulate(active_timeline)\n",
    "# galaxy.simulate(quiescent_timeline)"
   ],
   "id": "1ec2faed710e7d7a"
  },
  {
   "metadata": {
    "ExecuteTime": {
     "end_time": "2024-12-02T11:32:49.151721Z",
     "start_time": "2024-12-02T11:32:49.147800Z"
    }
   },
   "cell_type": "code",
   "source": [
    "def make_gen_masks(gen_obj1, gen_obj2):\n",
    "    \"\"\"Create masks for retrieving different sets of a merged or binary population based on generation.\n",
    "    \"\"\"\n",
    "    # Column of generation data\n",
    "\n",
    "    # Masks for hierarchical generations\n",
    "    # g1 : all 1g-1g objects\n",
    "    # g2 : 2g-1g and 2g-2g objects\n",
    "    # g3 : >=3g-Ng (first object at least 3rd gen; second object any gen)\n",
    "    # Pipe operator (|) = logical OR. (&)= logical AND.\n",
    "    g1_mask = (gen_obj1 == 1) & (gen_obj2 == 1)\n",
    "    g2_mask = ((gen_obj1 == 2) | (gen_obj2 == 2)) & ((gen_obj1 <= 2) & (gen_obj2 <= 2))\n",
    "    gX_mask = (gen_obj1 >= 3) | (gen_obj2 >= 3)\n",
    "\n",
    "    return g1_mask, g2_mask, gX_mask"
   ],
   "id": "7f430ba9fcac8bfe",
   "outputs": [],
   "execution_count": 4
  },
  {
   "metadata": {
    "ExecuteTime": {
     "end_time": "2024-12-02T11:32:49.428401Z",
     "start_time": "2024-12-02T11:32:49.424053Z"
    }
   },
   "cell_type": "code",
   "source": "population_cabinet.agn_objects",
   "id": "f79dbb6dde6b23b6",
   "outputs": [
    {
     "data": {
      "text/plain": [
       "{'blackholes_merged': <mcfacts.objects.agn_object_array.AGNMergedBlackHoleArray at 0x2800a2f7f80>}"
      ]
     },
     "execution_count": 5,
     "metadata": {},
     "output_type": "execute_result"
    }
   ],
   "execution_count": 5
  },
  {
   "metadata": {
    "ExecuteTime": {
     "end_time": "2024-12-02T11:32:50.613397Z",
     "start_time": "2024-12-02T11:32:49.790704Z"
    }
   },
   "cell_type": "code",
   "source": [
    "from mcfacts.vis import plotting, styles\n",
    "import matplotlib.ticker as mticker\n",
    "import numpy as np\n",
    "figsize = \"apj_col\"\n",
    "\n",
    "mergers = population_cabinet.get_array(\"blackholes_merged\")\n",
    "mass_final = mergers.mass_final\n",
    "\n",
    "merger_g1_mask, merger_g2_mask, merger_gX_mask = make_gen_masks(mergers.gen_1, mergers.gen_2)\n",
    "\n",
    "# Plot intial and final mass distributions\n",
    "fig = plt.figure(figsize=(8, 5))\n",
    "counts, bins = np.histogram(mass_final)\n",
    "# plt.hist(bins[:-1], bins, weights=counts)\n",
    "bins = np.arange(int(mass_final.min()), int(mass_final.max()) + 2, 1)\n",
    "\n",
    "hist_data = [mass_final[merger_g1_mask], mass_final[merger_g2_mask], mass_final[merger_gX_mask]]\n",
    "hist_label = ['1g-1g', '2g-1g or 2g-2g', r'$\\geq$3g-Ng']\n",
    "hist_color = [styles.color_gen1, styles.color_gen2, styles.color_genX]\n",
    "\n",
    "plt.hist(hist_data, bins=bins, align='left', color=hist_color, alpha=0.9, rwidth=0.8, label=hist_label, stacked=True)\n",
    "\n",
    "plt.ylabel('Number of Mergers')\n",
    "plt.xlabel(r'Remnant Mass [$M_\\odot$]')\n",
    "plt.xscale('log')\n",
    "# plt.ylim(-5,max(counts))\n",
    "svf_ax = plt.gca()\n",
    "svf_ax.set_axisbelow(True)\n",
    "svf_ax.tick_params(axis='x', direction='out', which='both')\n",
    "#plt.grid(True, color='gray', ls='dashed')\n",
    "svf_ax.yaxis.grid(True, color='gray', ls='dashed')\n",
    "\n",
    "plt.xticks(np.geomspace(int(mass_final.min()), int(mass_final.max()), 5).astype(int))\n",
    "#plt.xticks(np.geomspace(20, 200, 5).astype(int))\n",
    "\n",
    "svf_ax.xaxis.set_major_formatter(mticker.StrMethodFormatter('{x:.0f}'))\n",
    "svf_ax.xaxis.set_minor_formatter(mticker.NullFormatter())\n",
    "\n",
    "if figsize == 'apj_col':\n",
    "    plt.legend(fontsize=6)\n",
    "elif figsize == 'apj_page':\n",
    "    plt.legend()\n",
    "\n",
    "#plt.savefig(opts.plots_directory + r\"/merger_remnant_mass.png\", format='png')\n"
   ],
   "id": "8515998ba435b03a",
   "outputs": [
    {
     "data": {
      "text/plain": [
       "<Figure size 800x500 with 1 Axes>"
      ],
      "image/png": "[encoded data removed]"
     },
     "metadata": {},
     "output_type": "display_data"
    }
   ],
   "execution_count": 6
  },
  {
   "metadata": {},
   "cell_type": "code",
   "outputs": [],
   "execution_count": null,
   "source": "",
   "id": "88e2c81b016efcab"
  }
 ],
 "metadata": {
  "kernelspec": {
   "display_name": "Python 3",
   "language": "python",
   "name": "python3"
  },
  "language_info": {
   "codemirror_mode": {
    "name": "ipython",
    "version": 2
   },
   "file_extension": ".py",
   "mimetype": "text/x-python",
   "name": "python",
   "nbconvert_exporter": "python",
   "pygments_lexer": "ipython2",
   "version": "2.7.6"
  }
 },
 "nbformat": 4,
 "nbformat_minor": 5
}
